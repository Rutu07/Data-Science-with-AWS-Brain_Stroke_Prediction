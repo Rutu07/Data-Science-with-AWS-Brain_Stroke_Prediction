{
 "cells": [
  {
   "cell_type": "code",
   "execution_count": 2,
   "id": "740a01f9-4e85-4f97-aee9-59ad3b846226",
   "metadata": {},
   "outputs": [
    {
     "name": "stdout",
     "output_type": "stream",
     "text": [
      "Requirement already satisfied: imbalanced-learn in /opt/conda/lib/python3.7/site-packages (0.9.0)\n",
      "Requirement already satisfied: scikit-learn>=1.0.1 in /opt/conda/lib/python3.7/site-packages (from imbalanced-learn) (1.0.2)\n",
      "Requirement already satisfied: joblib>=0.11 in /opt/conda/lib/python3.7/site-packages (from imbalanced-learn) (0.14.1)\n",
      "Requirement already satisfied: scipy>=1.1.0 in /opt/conda/lib/python3.7/site-packages (from imbalanced-learn) (1.4.1)\n",
      "Requirement already satisfied: numpy>=1.14.6 in /opt/conda/lib/python3.7/site-packages (from imbalanced-learn) (1.21.6)\n",
      "Requirement already satisfied: threadpoolctl>=2.0.0 in /opt/conda/lib/python3.7/site-packages (from imbalanced-learn) (3.1.0)\n",
      "\u001b[33mWARNING: Running pip as the 'root' user can result in broken permissions and conflicting behaviour with the system package manager. It is recommended to use a virtual environment instead: https://pip.pypa.io/warnings/venv\u001b[0m\u001b[33m\n",
      "\u001b[0m\n",
      "\u001b[1m[\u001b[0m\u001b[34;49mnotice\u001b[0m\u001b[1;39;49m]\u001b[0m\u001b[39;49m A new release of pip available: \u001b[0m\u001b[31;49m22.2.2\u001b[0m\u001b[39;49m -> \u001b[0m\u001b[32;49m22.3.1\u001b[0m\n",
      "\u001b[1m[\u001b[0m\u001b[34;49mnotice\u001b[0m\u001b[1;39;49m]\u001b[0m\u001b[39;49m To update, run: \u001b[0m\u001b[32;49mpip install --upgrade pip\u001b[0m\n",
      "Requirement already satisfied: delayed in /opt/conda/lib/python3.7/site-packages (0.11.0b1)\n",
      "Requirement already satisfied: redis in /opt/conda/lib/python3.7/site-packages (from delayed) (4.3.4)\n",
      "Requirement already satisfied: hiredis in /opt/conda/lib/python3.7/site-packages (from delayed) (2.0.0)\n",
      "Requirement already satisfied: deprecated>=1.2.3 in /opt/conda/lib/python3.7/site-packages (from redis->delayed) (1.2.13)\n",
      "Requirement already satisfied: packaging>=20.4 in /opt/conda/lib/python3.7/site-packages (from redis->delayed) (21.3)\n",
      "Requirement already satisfied: typing-extensions in /opt/conda/lib/python3.7/site-packages (from redis->delayed) (4.3.0)\n",
      "Requirement already satisfied: async-timeout>=4.0.2 in /opt/conda/lib/python3.7/site-packages (from redis->delayed) (4.0.2)\n",
      "Requirement already satisfied: importlib-metadata>=1.0 in /opt/conda/lib/python3.7/site-packages (from redis->delayed) (4.12.0)\n",
      "Requirement already satisfied: wrapt<2,>=1.10 in /opt/conda/lib/python3.7/site-packages (from deprecated>=1.2.3->redis->delayed) (1.11.2)\n",
      "Requirement already satisfied: zipp>=0.5 in /opt/conda/lib/python3.7/site-packages (from importlib-metadata>=1.0->redis->delayed) (3.8.1)\n",
      "Requirement already satisfied: pyparsing!=3.0.5,>=2.0.2 in /opt/conda/lib/python3.7/site-packages (from packaging>=20.4->redis->delayed) (2.4.6)\n",
      "\u001b[33mWARNING: Running pip as the 'root' user can result in broken permissions and conflicting behaviour with the system package manager. It is recommended to use a virtual environment instead: https://pip.pypa.io/warnings/venv\u001b[0m\u001b[33m\n",
      "\u001b[0m\n",
      "\u001b[1m[\u001b[0m\u001b[34;49mnotice\u001b[0m\u001b[1;39;49m]\u001b[0m\u001b[39;49m A new release of pip available: \u001b[0m\u001b[31;49m22.2.2\u001b[0m\u001b[39;49m -> \u001b[0m\u001b[32;49m22.3.1\u001b[0m\n",
      "\u001b[1m[\u001b[0m\u001b[34;49mnotice\u001b[0m\u001b[1;39;49m]\u001b[0m\u001b[39;49m To update, run: \u001b[0m\u001b[32;49mpip install --upgrade pip\u001b[0m\n"
     ]
    }
   ],
   "source": [
    "!pip install imbalanced-learn\n",
    "!pip install delayed"
   ]
  },
  {
   "cell_type": "markdown",
   "id": "fc0a36aa-32ec-45cc-81c6-2e6da57b63a3",
   "metadata": {},
   "source": [
    "Import necessary packages"
   ]
  },
  {
   "cell_type": "code",
   "execution_count": 3,
   "id": "8b3a8e2d-418b-4434-9172-8113b5ebc238",
   "metadata": {},
   "outputs": [],
   "source": [
    "# Packages to manipulate data\n",
    "import numpy as np\n",
    "import pandas as pd\n",
    "from time import gmtime, strftime"
   ]
  },
  {
   "cell_type": "code",
   "execution_count": 4,
   "id": "5a970617-057a-4493-a34c-4bd53c780e4c",
   "metadata": {},
   "outputs": [],
   "source": [
    "# Packages for visualizations\n",
    "import matplotlib.pyplot as plt\n",
    "import seaborn as sns"
   ]
  },
  {
   "cell_type": "code",
   "execution_count": 5,
   "id": "86a40ec2-7798-4f89-8c16-0d64633350d9",
   "metadata": {},
   "outputs": [],
   "source": [
    "# Packages for data pre-processing\n",
    "# For Encoding and Scaling\n",
    "from sklearn.preprocessing import LabelEncoder, StandardScaler\n",
    "# For train_test_split\n",
    "from sklearn.model_selection import train_test_split\n",
    "# To check multi-colinearity\n",
    "from statsmodels.stats.outliers_influence import variance_inflation_factor\n",
    "# To create balanced dataset\n",
    "from imblearn.over_sampling import SMOTE"
   ]
  },
  {
   "cell_type": "code",
   "execution_count": 6,
   "id": "cf1bdbca-97f8-41e4-aa91-6637c86124ad",
   "metadata": {},
   "outputs": [],
   "source": [
    "# Packages & dependencies for SageMaker to connect to S3 service\n",
    "import boto3, re, sys, math, json, os, sagemaker"
   ]
  },
  {
   "cell_type": "markdown",
   "id": "1791da4f-2a9d-47e1-8784-73410f7a9b1f",
   "metadata": {},
   "source": [
    "### Create S3 bucket to read & write data from"
   ]
  },
  {
   "cell_type": "code",
   "execution_count": 7,
   "id": "48448a3c-b193-4677-a24c-725758aeb3cc",
   "metadata": {},
   "outputs": [
    {
     "name": "stdout",
     "output_type": "stream",
     "text": [
      "us-east-1\n"
     ]
    }
   ],
   "source": [
    "# Set the bucket name and region variables\n",
    "bucket_name='sagemaker-bucket-brain-stroke-2'\n",
    "# To check your region\n",
    "my_region= boto3.session.Session().region_name\n",
    "print(my_region)"
   ]
  },
  {
   "cell_type": "markdown",
   "id": "4854949e-4583-4f7c-982c-6cc64b1c1927",
   "metadata": {},
   "source": [
    "You can access multiple services in AWS using boto3"
   ]
  },
  {
   "cell_type": "code",
   "execution_count": 8,
   "id": "f64ee91c-4e35-465a-89d9-b3431b61af0d",
   "metadata": {},
   "outputs": [
    {
     "data": {
      "text/plain": [
       "s3.Bucket(name='sagemaker-bucket-brain-stroke-2')"
      ]
     },
     "execution_count": 8,
     "metadata": {},
     "output_type": "execute_result"
    }
   ],
   "source": [
    "# Create an s3 bucket\n",
    "s3 = boto3.resource('s3')\n",
    "s3.create_bucket(Bucket=bucket_name)"
   ]
  },
  {
   "cell_type": "code",
   "execution_count": 9,
   "id": "afa1788b-cfcc-4061-af30-74b281a52ec2",
   "metadata": {},
   "outputs": [],
   "source": [
    "# Set variables to wrtite data into S3\n",
    "# You are doing this step to upload data into S3\n",
    "data='brain_stroke.csv'\n",
    "#  prefix is the folder name inside which you want this data\n",
    "prefix='pre-proessing'"
   ]
  },
  {
   "cell_type": "code",
   "execution_count": 10,
   "id": "63727e83-fb66-4e60-86f6-1c0392df4b5f",
   "metadata": {},
   "outputs": [],
   "source": [
    "# Write data into S3\n",
    "# Step 1:  # Add file to this bucket\n",
    "# Step 2: # Appled the file path- create /input folder inside pre-proessing folder\n",
    "# Step 3: # Upload file\n",
    "boto3.Session().resource('s3').Bucket(bucket_name).Object(os.path.join(prefix,'input/brain_stroke.csv')).upload_file(\"brain_stroke.csv\")"
   ]
  },
  {
   "cell_type": "markdown",
   "id": "cba5719a-3646-40ad-98e5-fcf501e3ba33",
   "metadata": {},
   "source": [
    "### Data Cleaning"
   ]
  },
  {
   "cell_type": "markdown",
   "id": "8c7000d7-701c-48c4-8b3b-139c18b39d25",
   "metadata": {},
   "source": [
    "##### Read data from S3\n"
   ]
  },
  {
   "cell_type": "code",
   "execution_count": 11,
   "id": "1de5be49-c622-40a8-b639-927df2a1c651",
   "metadata": {},
   "outputs": [],
   "source": [
    "# Set variables - dataset name and S3 location\n",
    "data_key='brain_stroke.csv'\n",
    "data_location=f's3://{bucket_name}/{prefix}/input/{data_key}'\n",
    "# It is always better to parametrize variables in your code."
   ]
  },
  {
   "cell_type": "code",
   "execution_count": 12,
   "id": "37e0804c-f8aa-4be0-b92f-064baf172209",
   "metadata": {},
   "outputs": [
    {
     "data": {
      "text/html": [
       "<div>\n",
       "<style scoped>\n",
       "    .dataframe tbody tr th:only-of-type {\n",
       "        vertical-align: middle;\n",
       "    }\n",
       "\n",
       "    .dataframe tbody tr th {\n",
       "        vertical-align: top;\n",
       "    }\n",
       "\n",
       "    .dataframe thead th {\n",
       "        text-align: right;\n",
       "    }\n",
       "</style>\n",
       "<table border=\"1\" class=\"dataframe\">\n",
       "  <thead>\n",
       "    <tr style=\"text-align: right;\">\n",
       "      <th></th>\n",
       "      <th>gender</th>\n",
       "      <th>age</th>\n",
       "      <th>hypertension</th>\n",
       "      <th>heart_disease</th>\n",
       "      <th>ever_married</th>\n",
       "      <th>work_type</th>\n",
       "      <th>Residence_type</th>\n",
       "      <th>smoking_status</th>\n",
       "      <th>stroke</th>\n",
       "      <th>is_paralyzed</th>\n",
       "      <th>avg_glucose_level_bmi</th>\n",
       "    </tr>\n",
       "  </thead>\n",
       "  <tbody>\n",
       "    <tr>\n",
       "      <th>0</th>\n",
       "      <td>Male</td>\n",
       "      <td>NaN</td>\n",
       "      <td>0</td>\n",
       "      <td>1</td>\n",
       "      <td>Yes</td>\n",
       "      <td>Private</td>\n",
       "      <td>Urban</td>\n",
       "      <td>formerly smoked</td>\n",
       "      <td>1</td>\n",
       "      <td>1</td>\n",
       "      <td>228.69;36.6</td>\n",
       "    </tr>\n",
       "    <tr>\n",
       "      <th>1</th>\n",
       "      <td>Male</td>\n",
       "      <td>80.0</td>\n",
       "      <td>0</td>\n",
       "      <td>1</td>\n",
       "      <td>Yes</td>\n",
       "      <td>Private</td>\n",
       "      <td>Rural</td>\n",
       "      <td>never smoked</td>\n",
       "      <td>1</td>\n",
       "      <td>1</td>\n",
       "      <td>105.92;32.5</td>\n",
       "    </tr>\n",
       "    <tr>\n",
       "      <th>2</th>\n",
       "      <td>Female</td>\n",
       "      <td>NaN</td>\n",
       "      <td>0</td>\n",
       "      <td>0</td>\n",
       "      <td>Yes</td>\n",
       "      <td>Private</td>\n",
       "      <td>Urban</td>\n",
       "      <td>smokes</td>\n",
       "      <td>1</td>\n",
       "      <td>1</td>\n",
       "      <td>171.23;34.4</td>\n",
       "    </tr>\n",
       "    <tr>\n",
       "      <th>3</th>\n",
       "      <td>Female</td>\n",
       "      <td>79.0</td>\n",
       "      <td>1</td>\n",
       "      <td>0</td>\n",
       "      <td>Yes</td>\n",
       "      <td>Self-employed</td>\n",
       "      <td>Rural</td>\n",
       "      <td>never smoked</td>\n",
       "      <td>1</td>\n",
       "      <td>1</td>\n",
       "      <td>174.12;24</td>\n",
       "    </tr>\n",
       "    <tr>\n",
       "      <th>4</th>\n",
       "      <td>Male</td>\n",
       "      <td>NaN</td>\n",
       "      <td>0</td>\n",
       "      <td>0</td>\n",
       "      <td>Yes</td>\n",
       "      <td>Private</td>\n",
       "      <td>Urban</td>\n",
       "      <td>formerly smoked</td>\n",
       "      <td>1</td>\n",
       "      <td>1</td>\n",
       "      <td>186.21;29</td>\n",
       "    </tr>\n",
       "  </tbody>\n",
       "</table>\n",
       "</div>"
      ],
      "text/plain": [
       "   gender   age  hypertension  heart_disease ever_married      work_type  \\\n",
       "0    Male   NaN             0              1          Yes        Private   \n",
       "1    Male  80.0             0              1          Yes        Private   \n",
       "2  Female   NaN             0              0          Yes        Private   \n",
       "3  Female  79.0             1              0          Yes  Self-employed   \n",
       "4    Male   NaN             0              0          Yes        Private   \n",
       "\n",
       "  Residence_type   smoking_status  stroke  is_paralyzed avg_glucose_level_bmi  \n",
       "0          Urban  formerly smoked       1             1           228.69;36.6  \n",
       "1          Rural     never smoked       1             1           105.92;32.5  \n",
       "2          Urban           smokes       1             1           171.23;34.4  \n",
       "3          Rural     never smoked       1             1             174.12;24  \n",
       "4          Urban  formerly smoked       1             1             186.21;29  "
      ]
     },
     "execution_count": 12,
     "metadata": {},
     "output_type": "execute_result"
    }
   ],
   "source": [
    "# Read data into pandas dataframe\n",
    "df=pd.read_csv(data_location)\n",
    "df.head()"
   ]
  },
  {
   "cell_type": "markdown",
   "id": "9192ac28-f04a-4a09-b5b4-59261c4de432",
   "metadata": {},
   "source": [
    "#### Handle Missing Values                  "
   ]
  },
  {
   "cell_type": "code",
   "execution_count": 13,
   "id": "e3d42375-0a07-4c3b-9978-9508b9f9b3c4",
   "metadata": {},
   "outputs": [
    {
     "data": {
      "text/plain": [
       "gender                   0\n",
       "age                      5\n",
       "hypertension             0\n",
       "heart_disease            0\n",
       "ever_married             0\n",
       "work_type                0\n",
       "Residence_type           0\n",
       "smoking_status           0\n",
       "stroke                   0\n",
       "is_paralyzed             0\n",
       "avg_glucose_level_bmi    0\n",
       "dtype: int64"
      ]
     },
     "execution_count": 13,
     "metadata": {},
     "output_type": "execute_result"
    }
   ],
   "source": [
    "df.isnull().sum()"
   ]
  },
  {
   "cell_type": "code",
   "execution_count": 14,
   "id": "aba5408c-ec3f-460d-bd69-ccb0beb9ecdf",
   "metadata": {},
   "outputs": [
    {
     "data": {
      "text/plain": [
       "array(['formerly smoked', 'never smoked', 'smokes', 'Unknown'],\n",
       "      dtype=object)"
      ]
     },
     "execution_count": 14,
     "metadata": {},
     "output_type": "execute_result"
    }
   ],
   "source": [
    "df['smoking_status'].unique()"
   ]
  },
  {
   "cell_type": "code",
   "execution_count": 15,
   "id": "38359ae1-6577-435f-a6e8-cde049079d9e",
   "metadata": {},
   "outputs": [
    {
     "data": {
      "text/plain": [
       "0.3012794882047181"
      ]
     },
     "execution_count": 15,
     "metadata": {},
     "output_type": "execute_result"
    }
   ],
   "source": [
    "# Proportion of rows having smoking_status= unkown\n",
    "df[df['smoking_status']=='Unknown'].shape[0]/df.shape[0]"
   ]
  },
  {
   "cell_type": "code",
   "execution_count": 16,
   "id": "c69a41ed-8edb-4571-aa21-1be049570cc4",
   "metadata": {},
   "outputs": [],
   "source": [
    "# Handles missing values in age by imputing with mean\n",
    "df['age'].fillna(df['age'].mean(),inplace=True)"
   ]
  },
  {
   "cell_type": "code",
   "execution_count": 17,
   "id": "251d6511-327a-4f8e-a0ba-5273a7ace019",
   "metadata": {},
   "outputs": [],
   "source": [
    "# Remove rows with \"Unknown\" smoking status\n",
    "df=df[df['smoking_status']!='Unknown']"
   ]
  },
  {
   "cell_type": "code",
   "execution_count": 18,
   "id": "1083028d-f86c-475a-bc69-b8500e19e59f",
   "metadata": {},
   "outputs": [
    {
     "data": {
      "text/plain": [
       "(3495, 11)"
      ]
     },
     "execution_count": 18,
     "metadata": {},
     "output_type": "execute_result"
    }
   ],
   "source": [
    "df.shape"
   ]
  },
  {
   "cell_type": "markdown",
   "id": "a98bdf7d-53eb-4ede-a238-a526b057c9de",
   "metadata": {},
   "source": [
    "##### Manage Vector Features"
   ]
  },
  {
   "cell_type": "code",
   "execution_count": 19,
   "id": "673b60df-d7b4-48df-9787-be933a52ed76",
   "metadata": {},
   "outputs": [
    {
     "data": {
      "text/plain": [
       "0    228.69;36.6\n",
       "1    105.92;32.5\n",
       "2    171.23;34.4\n",
       "3      174.12;24\n",
       "4      186.21;29\n",
       "Name: avg_glucose_level_bmi, dtype: object"
      ]
     },
     "execution_count": 19,
     "metadata": {},
     "output_type": "execute_result"
    }
   ],
   "source": [
    "# Show the vector feature\n",
    "df.avg_glucose_level_bmi.head()"
   ]
  },
  {
   "cell_type": "code",
   "execution_count": 20,
   "id": "0c149278-0577-483a-9cb8-8e0940d6f046",
   "metadata": {},
   "outputs": [],
   "source": [
    "# Apply lambda function to split the vector into 2 parts\n",
    "df['avg_glucose_level']=df['avg_glucose_level_bmi'].apply(lambda x:x.split(';')[0])\n",
    "df['bmi']=df['avg_glucose_level_bmi'].apply(lambda x:x.split(';')[1])"
   ]
  },
  {
   "cell_type": "code",
   "execution_count": 21,
   "id": "60e3d31e-c539-4fbd-8117-94f1cf28db04",
   "metadata": {},
   "outputs": [
    {
     "data": {
      "text/html": [
       "<div>\n",
       "<style scoped>\n",
       "    .dataframe tbody tr th:only-of-type {\n",
       "        vertical-align: middle;\n",
       "    }\n",
       "\n",
       "    .dataframe tbody tr th {\n",
       "        vertical-align: top;\n",
       "    }\n",
       "\n",
       "    .dataframe thead th {\n",
       "        text-align: right;\n",
       "    }\n",
       "</style>\n",
       "<table border=\"1\" class=\"dataframe\">\n",
       "  <thead>\n",
       "    <tr style=\"text-align: right;\">\n",
       "      <th></th>\n",
       "      <th>gender</th>\n",
       "      <th>age</th>\n",
       "      <th>hypertension</th>\n",
       "      <th>heart_disease</th>\n",
       "      <th>ever_married</th>\n",
       "      <th>work_type</th>\n",
       "      <th>Residence_type</th>\n",
       "      <th>smoking_status</th>\n",
       "      <th>stroke</th>\n",
       "      <th>is_paralyzed</th>\n",
       "      <th>avg_glucose_level_bmi</th>\n",
       "      <th>avg_glucose_level</th>\n",
       "      <th>bmi</th>\n",
       "    </tr>\n",
       "  </thead>\n",
       "  <tbody>\n",
       "    <tr>\n",
       "      <th>0</th>\n",
       "      <td>Male</td>\n",
       "      <td>43.412263</td>\n",
       "      <td>0</td>\n",
       "      <td>1</td>\n",
       "      <td>Yes</td>\n",
       "      <td>Private</td>\n",
       "      <td>Urban</td>\n",
       "      <td>formerly smoked</td>\n",
       "      <td>1</td>\n",
       "      <td>1</td>\n",
       "      <td>228.69;36.6</td>\n",
       "      <td>228.69</td>\n",
       "      <td>36.6</td>\n",
       "    </tr>\n",
       "    <tr>\n",
       "      <th>1</th>\n",
       "      <td>Male</td>\n",
       "      <td>80.000000</td>\n",
       "      <td>0</td>\n",
       "      <td>1</td>\n",
       "      <td>Yes</td>\n",
       "      <td>Private</td>\n",
       "      <td>Rural</td>\n",
       "      <td>never smoked</td>\n",
       "      <td>1</td>\n",
       "      <td>1</td>\n",
       "      <td>105.92;32.5</td>\n",
       "      <td>105.92</td>\n",
       "      <td>32.5</td>\n",
       "    </tr>\n",
       "    <tr>\n",
       "      <th>2</th>\n",
       "      <td>Female</td>\n",
       "      <td>43.412263</td>\n",
       "      <td>0</td>\n",
       "      <td>0</td>\n",
       "      <td>Yes</td>\n",
       "      <td>Private</td>\n",
       "      <td>Urban</td>\n",
       "      <td>smokes</td>\n",
       "      <td>1</td>\n",
       "      <td>1</td>\n",
       "      <td>171.23;34.4</td>\n",
       "      <td>171.23</td>\n",
       "      <td>34.4</td>\n",
       "    </tr>\n",
       "    <tr>\n",
       "      <th>3</th>\n",
       "      <td>Female</td>\n",
       "      <td>79.000000</td>\n",
       "      <td>1</td>\n",
       "      <td>0</td>\n",
       "      <td>Yes</td>\n",
       "      <td>Self-employed</td>\n",
       "      <td>Rural</td>\n",
       "      <td>never smoked</td>\n",
       "      <td>1</td>\n",
       "      <td>1</td>\n",
       "      <td>174.12;24</td>\n",
       "      <td>174.12</td>\n",
       "      <td>24</td>\n",
       "    </tr>\n",
       "    <tr>\n",
       "      <th>4</th>\n",
       "      <td>Male</td>\n",
       "      <td>43.412263</td>\n",
       "      <td>0</td>\n",
       "      <td>0</td>\n",
       "      <td>Yes</td>\n",
       "      <td>Private</td>\n",
       "      <td>Urban</td>\n",
       "      <td>formerly smoked</td>\n",
       "      <td>1</td>\n",
       "      <td>1</td>\n",
       "      <td>186.21;29</td>\n",
       "      <td>186.21</td>\n",
       "      <td>29</td>\n",
       "    </tr>\n",
       "  </tbody>\n",
       "</table>\n",
       "</div>"
      ],
      "text/plain": [
       "   gender        age  hypertension  heart_disease ever_married      work_type  \\\n",
       "0    Male  43.412263             0              1          Yes        Private   \n",
       "1    Male  80.000000             0              1          Yes        Private   \n",
       "2  Female  43.412263             0              0          Yes        Private   \n",
       "3  Female  79.000000             1              0          Yes  Self-employed   \n",
       "4    Male  43.412263             0              0          Yes        Private   \n",
       "\n",
       "  Residence_type   smoking_status  stroke  is_paralyzed avg_glucose_level_bmi  \\\n",
       "0          Urban  formerly smoked       1             1           228.69;36.6   \n",
       "1          Rural     never smoked       1             1           105.92;32.5   \n",
       "2          Urban           smokes       1             1           171.23;34.4   \n",
       "3          Rural     never smoked       1             1             174.12;24   \n",
       "4          Urban  formerly smoked       1             1             186.21;29   \n",
       "\n",
       "  avg_glucose_level   bmi  \n",
       "0            228.69  36.6  \n",
       "1            105.92  32.5  \n",
       "2            171.23  34.4  \n",
       "3            174.12    24  \n",
       "4            186.21    29  "
      ]
     },
     "execution_count": 21,
     "metadata": {},
     "output_type": "execute_result"
    }
   ],
   "source": [
    "df.head()"
   ]
  },
  {
   "cell_type": "markdown",
   "id": "cfb0effd-5699-41ca-ac56-f70824fbb16c",
   "metadata": {},
   "source": [
    "##### Manage Columns"
   ]
  },
  {
   "cell_type": "code",
   "execution_count": 22,
   "id": "ea811ac6-4b76-4f01-8eb8-99d8bd757e25",
   "metadata": {},
   "outputs": [],
   "source": [
    "df.drop('avg_glucose_level_bmi',inplace=True,axis=1)"
   ]
  },
  {
   "cell_type": "code",
   "execution_count": 23,
   "id": "e0492730-d765-4ca1-bddf-74bb2fc8588e",
   "metadata": {},
   "outputs": [],
   "source": [
    "df.rename(columns={'Residence_type':'residence_type'},inplace=True)"
   ]
  },
  {
   "cell_type": "code",
   "execution_count": 24,
   "id": "522b3608-07f8-4803-aa29-64446adad058",
   "metadata": {},
   "outputs": [
    {
     "data": {
      "text/html": [
       "<div>\n",
       "<style scoped>\n",
       "    .dataframe tbody tr th:only-of-type {\n",
       "        vertical-align: middle;\n",
       "    }\n",
       "\n",
       "    .dataframe tbody tr th {\n",
       "        vertical-align: top;\n",
       "    }\n",
       "\n",
       "    .dataframe thead th {\n",
       "        text-align: right;\n",
       "    }\n",
       "</style>\n",
       "<table border=\"1\" class=\"dataframe\">\n",
       "  <thead>\n",
       "    <tr style=\"text-align: right;\">\n",
       "      <th></th>\n",
       "      <th>gender</th>\n",
       "      <th>age</th>\n",
       "      <th>hypertension</th>\n",
       "      <th>heart_disease</th>\n",
       "      <th>ever_married</th>\n",
       "      <th>work_type</th>\n",
       "      <th>residence_type</th>\n",
       "      <th>smoking_status</th>\n",
       "      <th>stroke</th>\n",
       "      <th>is_paralyzed</th>\n",
       "      <th>avg_glucose_level</th>\n",
       "      <th>bmi</th>\n",
       "    </tr>\n",
       "  </thead>\n",
       "  <tbody>\n",
       "    <tr>\n",
       "      <th>0</th>\n",
       "      <td>Male</td>\n",
       "      <td>43.412263</td>\n",
       "      <td>0</td>\n",
       "      <td>1</td>\n",
       "      <td>Yes</td>\n",
       "      <td>Private</td>\n",
       "      <td>Urban</td>\n",
       "      <td>formerly smoked</td>\n",
       "      <td>1</td>\n",
       "      <td>1</td>\n",
       "      <td>228.69</td>\n",
       "      <td>36.6</td>\n",
       "    </tr>\n",
       "    <tr>\n",
       "      <th>1</th>\n",
       "      <td>Male</td>\n",
       "      <td>80.000000</td>\n",
       "      <td>0</td>\n",
       "      <td>1</td>\n",
       "      <td>Yes</td>\n",
       "      <td>Private</td>\n",
       "      <td>Rural</td>\n",
       "      <td>never smoked</td>\n",
       "      <td>1</td>\n",
       "      <td>1</td>\n",
       "      <td>105.92</td>\n",
       "      <td>32.5</td>\n",
       "    </tr>\n",
       "    <tr>\n",
       "      <th>2</th>\n",
       "      <td>Female</td>\n",
       "      <td>43.412263</td>\n",
       "      <td>0</td>\n",
       "      <td>0</td>\n",
       "      <td>Yes</td>\n",
       "      <td>Private</td>\n",
       "      <td>Urban</td>\n",
       "      <td>smokes</td>\n",
       "      <td>1</td>\n",
       "      <td>1</td>\n",
       "      <td>171.23</td>\n",
       "      <td>34.4</td>\n",
       "    </tr>\n",
       "    <tr>\n",
       "      <th>3</th>\n",
       "      <td>Female</td>\n",
       "      <td>79.000000</td>\n",
       "      <td>1</td>\n",
       "      <td>0</td>\n",
       "      <td>Yes</td>\n",
       "      <td>Self-employed</td>\n",
       "      <td>Rural</td>\n",
       "      <td>never smoked</td>\n",
       "      <td>1</td>\n",
       "      <td>1</td>\n",
       "      <td>174.12</td>\n",
       "      <td>24</td>\n",
       "    </tr>\n",
       "    <tr>\n",
       "      <th>4</th>\n",
       "      <td>Male</td>\n",
       "      <td>43.412263</td>\n",
       "      <td>0</td>\n",
       "      <td>0</td>\n",
       "      <td>Yes</td>\n",
       "      <td>Private</td>\n",
       "      <td>Urban</td>\n",
       "      <td>formerly smoked</td>\n",
       "      <td>1</td>\n",
       "      <td>1</td>\n",
       "      <td>186.21</td>\n",
       "      <td>29</td>\n",
       "    </tr>\n",
       "  </tbody>\n",
       "</table>\n",
       "</div>"
      ],
      "text/plain": [
       "   gender        age  hypertension  heart_disease ever_married      work_type  \\\n",
       "0    Male  43.412263             0              1          Yes        Private   \n",
       "1    Male  80.000000             0              1          Yes        Private   \n",
       "2  Female  43.412263             0              0          Yes        Private   \n",
       "3  Female  79.000000             1              0          Yes  Self-employed   \n",
       "4    Male  43.412263             0              0          Yes        Private   \n",
       "\n",
       "  residence_type   smoking_status  stroke  is_paralyzed avg_glucose_level  \\\n",
       "0          Urban  formerly smoked       1             1            228.69   \n",
       "1          Rural     never smoked       1             1            105.92   \n",
       "2          Urban           smokes       1             1            171.23   \n",
       "3          Rural     never smoked       1             1            174.12   \n",
       "4          Urban  formerly smoked       1             1            186.21   \n",
       "\n",
       "    bmi  \n",
       "0  36.6  \n",
       "1  32.5  \n",
       "2  34.4  \n",
       "3    24  \n",
       "4    29  "
      ]
     },
     "execution_count": 24,
     "metadata": {},
     "output_type": "execute_result"
    }
   ],
   "source": [
    "df.head()"
   ]
  },
  {
   "cell_type": "markdown",
   "id": "d3c1aaba-7f29-4251-b79a-4cc3cc940603",
   "metadata": {},
   "source": [
    "##### Duplicate Rows"
   ]
  },
  {
   "cell_type": "code",
   "execution_count": 25,
   "id": "886d666d-9d73-43fe-9c75-dae526bebbcc",
   "metadata": {},
   "outputs": [
    {
     "data": {
      "text/html": [
       "<div>\n",
       "<style scoped>\n",
       "    .dataframe tbody tr th:only-of-type {\n",
       "        vertical-align: middle;\n",
       "    }\n",
       "\n",
       "    .dataframe tbody tr th {\n",
       "        vertical-align: top;\n",
       "    }\n",
       "\n",
       "    .dataframe thead th {\n",
       "        text-align: right;\n",
       "    }\n",
       "</style>\n",
       "<table border=\"1\" class=\"dataframe\">\n",
       "  <thead>\n",
       "    <tr style=\"text-align: right;\">\n",
       "      <th></th>\n",
       "      <th>gender</th>\n",
       "      <th>age</th>\n",
       "      <th>hypertension</th>\n",
       "      <th>heart_disease</th>\n",
       "      <th>ever_married</th>\n",
       "      <th>work_type</th>\n",
       "      <th>residence_type</th>\n",
       "      <th>smoking_status</th>\n",
       "      <th>stroke</th>\n",
       "      <th>is_paralyzed</th>\n",
       "      <th>avg_glucose_level</th>\n",
       "      <th>bmi</th>\n",
       "    </tr>\n",
       "  </thead>\n",
       "  <tbody>\n",
       "    <tr>\n",
       "      <th>4990</th>\n",
       "      <td>Female</td>\n",
       "      <td>71.0</td>\n",
       "      <td>0</td>\n",
       "      <td>0</td>\n",
       "      <td>Yes</td>\n",
       "      <td>Govt_job</td>\n",
       "      <td>Rural</td>\n",
       "      <td>smokes</td>\n",
       "      <td>1</td>\n",
       "      <td>1</td>\n",
       "      <td>193.94</td>\n",
       "      <td>22.4</td>\n",
       "    </tr>\n",
       "    <tr>\n",
       "      <th>4991</th>\n",
       "      <td>Female</td>\n",
       "      <td>33.0</td>\n",
       "      <td>0</td>\n",
       "      <td>0</td>\n",
       "      <td>No</td>\n",
       "      <td>Private</td>\n",
       "      <td>Urban</td>\n",
       "      <td>smokes</td>\n",
       "      <td>0</td>\n",
       "      <td>0</td>\n",
       "      <td>84.4</td>\n",
       "      <td>29.7</td>\n",
       "    </tr>\n",
       "    <tr>\n",
       "      <th>4992</th>\n",
       "      <td>Female</td>\n",
       "      <td>53.0</td>\n",
       "      <td>0</td>\n",
       "      <td>0</td>\n",
       "      <td>No</td>\n",
       "      <td>Private</td>\n",
       "      <td>Rural</td>\n",
       "      <td>formerly smoked</td>\n",
       "      <td>0</td>\n",
       "      <td>0</td>\n",
       "      <td>235.45</td>\n",
       "      <td>32.5</td>\n",
       "    </tr>\n",
       "    <tr>\n",
       "      <th>4994</th>\n",
       "      <td>Male</td>\n",
       "      <td>52.0</td>\n",
       "      <td>0</td>\n",
       "      <td>1</td>\n",
       "      <td>No</td>\n",
       "      <td>Self-employed</td>\n",
       "      <td>Rural</td>\n",
       "      <td>formerly smoked</td>\n",
       "      <td>0</td>\n",
       "      <td>0</td>\n",
       "      <td>79.81</td>\n",
       "      <td>30.2</td>\n",
       "    </tr>\n",
       "    <tr>\n",
       "      <th>4997</th>\n",
       "      <td>Male</td>\n",
       "      <td>34.0</td>\n",
       "      <td>0</td>\n",
       "      <td>0</td>\n",
       "      <td>Yes</td>\n",
       "      <td>Private</td>\n",
       "      <td>Urban</td>\n",
       "      <td>smokes</td>\n",
       "      <td>0</td>\n",
       "      <td>0</td>\n",
       "      <td>99.23</td>\n",
       "      <td>29.7</td>\n",
       "    </tr>\n",
       "    <tr>\n",
       "      <th>4999</th>\n",
       "      <td>Female</td>\n",
       "      <td>45.0</td>\n",
       "      <td>0</td>\n",
       "      <td>0</td>\n",
       "      <td>Yes</td>\n",
       "      <td>Private</td>\n",
       "      <td>Urban</td>\n",
       "      <td>never smoked</td>\n",
       "      <td>0</td>\n",
       "      <td>0</td>\n",
       "      <td>202.66</td>\n",
       "      <td>31.9</td>\n",
       "    </tr>\n",
       "  </tbody>\n",
       "</table>\n",
       "</div>"
      ],
      "text/plain": [
       "      gender   age  hypertension  heart_disease ever_married      work_type  \\\n",
       "4990  Female  71.0             0              0          Yes       Govt_job   \n",
       "4991  Female  33.0             0              0           No        Private   \n",
       "4992  Female  53.0             0              0           No        Private   \n",
       "4994    Male  52.0             0              1           No  Self-employed   \n",
       "4997    Male  34.0             0              0          Yes        Private   \n",
       "4999  Female  45.0             0              0          Yes        Private   \n",
       "\n",
       "     residence_type   smoking_status  stroke  is_paralyzed avg_glucose_level  \\\n",
       "4990          Rural           smokes       1             1            193.94   \n",
       "4991          Urban           smokes       0             0              84.4   \n",
       "4992          Rural  formerly smoked       0             0            235.45   \n",
       "4994          Rural  formerly smoked       0             0             79.81   \n",
       "4997          Urban           smokes       0             0             99.23   \n",
       "4999          Urban     never smoked       0             0            202.66   \n",
       "\n",
       "       bmi  \n",
       "4990  22.4  \n",
       "4991  29.7  \n",
       "4992  32.5  \n",
       "4994  30.2  \n",
       "4997  29.7  \n",
       "4999  31.9  "
      ]
     },
     "execution_count": 25,
     "metadata": {},
     "output_type": "execute_result"
    }
   ],
   "source": [
    "df[df.duplicated()]"
   ]
  },
  {
   "cell_type": "code",
   "execution_count": 26,
   "id": "fc21fb49-2323-4c2a-be3e-d4ec1b9b5cf2",
   "metadata": {},
   "outputs": [],
   "source": [
    "# Drop duplicates by keeping only first rows\n",
    "df.drop_duplicates(keep='first',inplace=True)"
   ]
  },
  {
   "cell_type": "markdown",
   "id": "6667fb9a-4c7a-4c89-ab57-c1028ebe05af",
   "metadata": {},
   "source": [
    "##### Parse Features to the correct datatypes"
   ]
  },
  {
   "cell_type": "code",
   "execution_count": 27,
   "id": "afb37f2b-20c6-4ce0-a32b-9a77a57987f0",
   "metadata": {},
   "outputs": [
    {
     "name": "stdout",
     "output_type": "stream",
     "text": [
      "<class 'pandas.core.frame.DataFrame'>\n",
      "Int64Index: 3489 entries, 0 to 4989\n",
      "Data columns (total 12 columns):\n",
      " #   Column             Non-Null Count  Dtype  \n",
      "---  ------             --------------  -----  \n",
      " 0   gender             3489 non-null   object \n",
      " 1   age                3489 non-null   float64\n",
      " 2   hypertension       3489 non-null   int64  \n",
      " 3   heart_disease      3489 non-null   int64  \n",
      " 4   ever_married       3489 non-null   object \n",
      " 5   work_type          3489 non-null   object \n",
      " 6   residence_type     3489 non-null   object \n",
      " 7   smoking_status     3489 non-null   object \n",
      " 8   stroke             3489 non-null   int64  \n",
      " 9   is_paralyzed       3489 non-null   int64  \n",
      " 10  avg_glucose_level  3489 non-null   object \n",
      " 11  bmi                3489 non-null   object \n",
      "dtypes: float64(1), int64(4), object(7)\n",
      "memory usage: 354.4+ KB\n"
     ]
    }
   ],
   "source": [
    "df.info()\n",
    "#Avg_glucose_level and bmi are objects and not floating point numbers"
   ]
  },
  {
   "cell_type": "code",
   "execution_count": 28,
   "id": "6c85093f-83af-4b70-b04a-5ad5e977b62f",
   "metadata": {},
   "outputs": [],
   "source": [
    "df['avg_glucose_level']=df['avg_glucose_level'].astype('float')\n",
    "df['bmi']=df['bmi'].astype('float')\n",
    "# Run above comment again to check float type"
   ]
  },
  {
   "cell_type": "markdown",
   "id": "f1117138-c4f8-4021-b308-0d84e1fb73ca",
   "metadata": {},
   "source": [
    "##### Format string (standardize string values)"
   ]
  },
  {
   "cell_type": "code",
   "execution_count": 29,
   "id": "80f9dcf6-0af5-478e-a1b2-0d5c4a8578e7",
   "metadata": {},
   "outputs": [
    {
     "name": "stdout",
     "output_type": "stream",
     "text": [
      "<class 'pandas.core.frame.DataFrame'>\n",
      "Int64Index: 3489 entries, 0 to 4989\n",
      "Data columns (total 12 columns):\n",
      " #   Column             Non-Null Count  Dtype  \n",
      "---  ------             --------------  -----  \n",
      " 0   gender             3489 non-null   object \n",
      " 1   age                3489 non-null   float64\n",
      " 2   hypertension       3489 non-null   int64  \n",
      " 3   heart_disease      3489 non-null   int64  \n",
      " 4   ever_married       3489 non-null   object \n",
      " 5   work_type          3489 non-null   object \n",
      " 6   residence_type     3489 non-null   object \n",
      " 7   smoking_status     3489 non-null   object \n",
      " 8   stroke             3489 non-null   int64  \n",
      " 9   is_paralyzed       3489 non-null   int64  \n",
      " 10  avg_glucose_level  3489 non-null   float64\n",
      " 11  bmi                3489 non-null   float64\n",
      "dtypes: float64(3), int64(4), object(5)\n",
      "memory usage: 354.4+ KB\n"
     ]
    }
   ],
   "source": [
    "df.info()"
   ]
  },
  {
   "cell_type": "code",
   "execution_count": 30,
   "id": "37966984-bc13-4767-af76-471f7a23ffc6",
   "metadata": {},
   "outputs": [
    {
     "data": {
      "text/plain": [
       "array(['Private', 'Self-employed', 'Govt_job', 'children'], dtype=object)"
      ]
     },
     "execution_count": 30,
     "metadata": {},
     "output_type": "execute_result"
    }
   ],
   "source": [
    "# Remove dahses and underscored from work_type feature\n",
    "df['work_type'].unique()"
   ]
  },
  {
   "cell_type": "code",
   "execution_count": 31,
   "id": "e644e824-3501-4a94-a167-029df5527879",
   "metadata": {},
   "outputs": [],
   "source": [
    "# Use regex to replace '_' and '-' to ' '\n",
    "df['work_type']=df['work_type'].str.replace(r'[-_]',' ',regex=True).astype('string')"
   ]
  },
  {
   "cell_type": "code",
   "execution_count": 32,
   "id": "7788bdb3-242d-48e1-ae03-bdfd68e6ea65",
   "metadata": {},
   "outputs": [
    {
     "data": {
      "text/html": [
       "<div>\n",
       "<style scoped>\n",
       "    .dataframe tbody tr th:only-of-type {\n",
       "        vertical-align: middle;\n",
       "    }\n",
       "\n",
       "    .dataframe tbody tr th {\n",
       "        vertical-align: top;\n",
       "    }\n",
       "\n",
       "    .dataframe thead th {\n",
       "        text-align: right;\n",
       "    }\n",
       "</style>\n",
       "<table border=\"1\" class=\"dataframe\">\n",
       "  <thead>\n",
       "    <tr style=\"text-align: right;\">\n",
       "      <th></th>\n",
       "      <th>gender</th>\n",
       "      <th>age</th>\n",
       "      <th>hypertension</th>\n",
       "      <th>heart_disease</th>\n",
       "      <th>ever_married</th>\n",
       "      <th>work_type</th>\n",
       "      <th>residence_type</th>\n",
       "      <th>smoking_status</th>\n",
       "      <th>stroke</th>\n",
       "      <th>is_paralyzed</th>\n",
       "      <th>avg_glucose_level</th>\n",
       "      <th>bmi</th>\n",
       "    </tr>\n",
       "  </thead>\n",
       "  <tbody>\n",
       "    <tr>\n",
       "      <th>0</th>\n",
       "      <td>Male</td>\n",
       "      <td>43.412263</td>\n",
       "      <td>0</td>\n",
       "      <td>1</td>\n",
       "      <td>Yes</td>\n",
       "      <td>Private</td>\n",
       "      <td>Urban</td>\n",
       "      <td>formerly smoked</td>\n",
       "      <td>1</td>\n",
       "      <td>1</td>\n",
       "      <td>228.69</td>\n",
       "      <td>36.6</td>\n",
       "    </tr>\n",
       "    <tr>\n",
       "      <th>1</th>\n",
       "      <td>Male</td>\n",
       "      <td>80.000000</td>\n",
       "      <td>0</td>\n",
       "      <td>1</td>\n",
       "      <td>Yes</td>\n",
       "      <td>Private</td>\n",
       "      <td>Rural</td>\n",
       "      <td>never smoked</td>\n",
       "      <td>1</td>\n",
       "      <td>1</td>\n",
       "      <td>105.92</td>\n",
       "      <td>32.5</td>\n",
       "    </tr>\n",
       "    <tr>\n",
       "      <th>2</th>\n",
       "      <td>Female</td>\n",
       "      <td>43.412263</td>\n",
       "      <td>0</td>\n",
       "      <td>0</td>\n",
       "      <td>Yes</td>\n",
       "      <td>Private</td>\n",
       "      <td>Urban</td>\n",
       "      <td>smokes</td>\n",
       "      <td>1</td>\n",
       "      <td>1</td>\n",
       "      <td>171.23</td>\n",
       "      <td>34.4</td>\n",
       "    </tr>\n",
       "    <tr>\n",
       "      <th>3</th>\n",
       "      <td>Female</td>\n",
       "      <td>79.000000</td>\n",
       "      <td>1</td>\n",
       "      <td>0</td>\n",
       "      <td>Yes</td>\n",
       "      <td>Self employed</td>\n",
       "      <td>Rural</td>\n",
       "      <td>never smoked</td>\n",
       "      <td>1</td>\n",
       "      <td>1</td>\n",
       "      <td>174.12</td>\n",
       "      <td>24.0</td>\n",
       "    </tr>\n",
       "    <tr>\n",
       "      <th>4</th>\n",
       "      <td>Male</td>\n",
       "      <td>43.412263</td>\n",
       "      <td>0</td>\n",
       "      <td>0</td>\n",
       "      <td>Yes</td>\n",
       "      <td>Private</td>\n",
       "      <td>Urban</td>\n",
       "      <td>formerly smoked</td>\n",
       "      <td>1</td>\n",
       "      <td>1</td>\n",
       "      <td>186.21</td>\n",
       "      <td>29.0</td>\n",
       "    </tr>\n",
       "  </tbody>\n",
       "</table>\n",
       "</div>"
      ],
      "text/plain": [
       "   gender        age  hypertension  heart_disease ever_married      work_type  \\\n",
       "0    Male  43.412263             0              1          Yes        Private   \n",
       "1    Male  80.000000             0              1          Yes        Private   \n",
       "2  Female  43.412263             0              0          Yes        Private   \n",
       "3  Female  79.000000             1              0          Yes  Self employed   \n",
       "4    Male  43.412263             0              0          Yes        Private   \n",
       "\n",
       "  residence_type   smoking_status  stroke  is_paralyzed  avg_glucose_level  \\\n",
       "0          Urban  formerly smoked       1             1             228.69   \n",
       "1          Rural     never smoked       1             1             105.92   \n",
       "2          Urban           smokes       1             1             171.23   \n",
       "3          Rural     never smoked       1             1             174.12   \n",
       "4          Urban  formerly smoked       1             1             186.21   \n",
       "\n",
       "    bmi  \n",
       "0  36.6  \n",
       "1  32.5  \n",
       "2  34.4  \n",
       "3  24.0  \n",
       "4  29.0  "
      ]
     },
     "execution_count": 32,
     "metadata": {},
     "output_type": "execute_result"
    }
   ],
   "source": [
    "df.head()"
   ]
  },
  {
   "cell_type": "code",
   "execution_count": 33,
   "id": "0c6bdc2a-a870-410f-9fb1-9ab7a7b735ac",
   "metadata": {},
   "outputs": [],
   "source": [
    "# Convert all string features to lower case\n",
    "df['gender']=df['gender'].str.lower()\n",
    "df['ever_married']=df['ever_married'].str.lower()\n",
    "df['work_type']=df['work_type'].str.lower()\n",
    "df['residence_type']=df['residence_type'].str.lower()\n",
    "df['smoking_status']=df['smoking_status'].str.lower()"
   ]
  },
  {
   "cell_type": "code",
   "execution_count": 34,
   "id": "bb460cc4-969d-409c-9935-0a8d6775d855",
   "metadata": {},
   "outputs": [
    {
     "data": {
      "text/html": [
       "<div>\n",
       "<style scoped>\n",
       "    .dataframe tbody tr th:only-of-type {\n",
       "        vertical-align: middle;\n",
       "    }\n",
       "\n",
       "    .dataframe tbody tr th {\n",
       "        vertical-align: top;\n",
       "    }\n",
       "\n",
       "    .dataframe thead th {\n",
       "        text-align: right;\n",
       "    }\n",
       "</style>\n",
       "<table border=\"1\" class=\"dataframe\">\n",
       "  <thead>\n",
       "    <tr style=\"text-align: right;\">\n",
       "      <th></th>\n",
       "      <th>gender</th>\n",
       "      <th>age</th>\n",
       "      <th>hypertension</th>\n",
       "      <th>heart_disease</th>\n",
       "      <th>ever_married</th>\n",
       "      <th>work_type</th>\n",
       "      <th>residence_type</th>\n",
       "      <th>smoking_status</th>\n",
       "      <th>stroke</th>\n",
       "      <th>is_paralyzed</th>\n",
       "      <th>avg_glucose_level</th>\n",
       "      <th>bmi</th>\n",
       "    </tr>\n",
       "  </thead>\n",
       "  <tbody>\n",
       "    <tr>\n",
       "      <th>0</th>\n",
       "      <td>male</td>\n",
       "      <td>43.412263</td>\n",
       "      <td>0</td>\n",
       "      <td>1</td>\n",
       "      <td>yes</td>\n",
       "      <td>private</td>\n",
       "      <td>urban</td>\n",
       "      <td>formerly smoked</td>\n",
       "      <td>1</td>\n",
       "      <td>1</td>\n",
       "      <td>228.69</td>\n",
       "      <td>36.6</td>\n",
       "    </tr>\n",
       "    <tr>\n",
       "      <th>1</th>\n",
       "      <td>male</td>\n",
       "      <td>80.000000</td>\n",
       "      <td>0</td>\n",
       "      <td>1</td>\n",
       "      <td>yes</td>\n",
       "      <td>private</td>\n",
       "      <td>rural</td>\n",
       "      <td>never smoked</td>\n",
       "      <td>1</td>\n",
       "      <td>1</td>\n",
       "      <td>105.92</td>\n",
       "      <td>32.5</td>\n",
       "    </tr>\n",
       "    <tr>\n",
       "      <th>2</th>\n",
       "      <td>female</td>\n",
       "      <td>43.412263</td>\n",
       "      <td>0</td>\n",
       "      <td>0</td>\n",
       "      <td>yes</td>\n",
       "      <td>private</td>\n",
       "      <td>urban</td>\n",
       "      <td>smokes</td>\n",
       "      <td>1</td>\n",
       "      <td>1</td>\n",
       "      <td>171.23</td>\n",
       "      <td>34.4</td>\n",
       "    </tr>\n",
       "    <tr>\n",
       "      <th>3</th>\n",
       "      <td>female</td>\n",
       "      <td>79.000000</td>\n",
       "      <td>1</td>\n",
       "      <td>0</td>\n",
       "      <td>yes</td>\n",
       "      <td>self employed</td>\n",
       "      <td>rural</td>\n",
       "      <td>never smoked</td>\n",
       "      <td>1</td>\n",
       "      <td>1</td>\n",
       "      <td>174.12</td>\n",
       "      <td>24.0</td>\n",
       "    </tr>\n",
       "    <tr>\n",
       "      <th>4</th>\n",
       "      <td>male</td>\n",
       "      <td>43.412263</td>\n",
       "      <td>0</td>\n",
       "      <td>0</td>\n",
       "      <td>yes</td>\n",
       "      <td>private</td>\n",
       "      <td>urban</td>\n",
       "      <td>formerly smoked</td>\n",
       "      <td>1</td>\n",
       "      <td>1</td>\n",
       "      <td>186.21</td>\n",
       "      <td>29.0</td>\n",
       "    </tr>\n",
       "  </tbody>\n",
       "</table>\n",
       "</div>"
      ],
      "text/plain": [
       "   gender        age  hypertension  heart_disease ever_married      work_type  \\\n",
       "0    male  43.412263             0              1          yes        private   \n",
       "1    male  80.000000             0              1          yes        private   \n",
       "2  female  43.412263             0              0          yes        private   \n",
       "3  female  79.000000             1              0          yes  self employed   \n",
       "4    male  43.412263             0              0          yes        private   \n",
       "\n",
       "  residence_type   smoking_status  stroke  is_paralyzed  avg_glucose_level  \\\n",
       "0          urban  formerly smoked       1             1             228.69   \n",
       "1          rural     never smoked       1             1             105.92   \n",
       "2          urban           smokes       1             1             171.23   \n",
       "3          rural     never smoked       1             1             174.12   \n",
       "4          urban  formerly smoked       1             1             186.21   \n",
       "\n",
       "    bmi  \n",
       "0  36.6  \n",
       "1  32.5  \n",
       "2  34.4  \n",
       "3  24.0  \n",
       "4  29.0  "
      ]
     },
     "execution_count": 34,
     "metadata": {},
     "output_type": "execute_result"
    }
   ],
   "source": [
    "df.head()"
   ]
  },
  {
   "cell_type": "code",
   "execution_count": 52,
   "id": "e898693d-1239-4156-b006-4357206ed84d",
   "metadata": {},
   "outputs": [
    {
     "data": {
      "text/plain": [
       "gender                object\n",
       "age                  float64\n",
       "hypertension           int64\n",
       "heart_disease          int64\n",
       "ever_married          object\n",
       "work_type             string\n",
       "residence_type        object\n",
       "smoking_status        object\n",
       "stroke                 int64\n",
       "is_paralyzed           int64\n",
       "avg_glucose_level    float64\n",
       "bmi                  float64\n",
       "dtype: object"
      ]
     },
     "execution_count": 52,
     "metadata": {},
     "output_type": "execute_result"
    }
   ],
   "source": [
    "df.dtypes"
   ]
  },
  {
   "cell_type": "markdown",
   "id": "75f7b4e2-86f8-4da6-b9f2-01257f7df6ce",
   "metadata": {},
   "source": [
    "### Data Exploration"
   ]
  },
  {
   "cell_type": "markdown",
   "id": "6f30ddec-879e-4c59-be5d-0915c758b2a0",
   "metadata": {},
   "source": [
    "#### Table Summary"
   ]
  },
  {
   "cell_type": "code",
   "execution_count": 35,
   "id": "4d95f0fc-51e9-4768-b0e4-e1b580fbfc0f",
   "metadata": {},
   "outputs": [
    {
     "data": {
      "text/html": [
       "<div>\n",
       "<style scoped>\n",
       "    .dataframe tbody tr th:only-of-type {\n",
       "        vertical-align: middle;\n",
       "    }\n",
       "\n",
       "    .dataframe tbody tr th {\n",
       "        vertical-align: top;\n",
       "    }\n",
       "\n",
       "    .dataframe thead th {\n",
       "        text-align: right;\n",
       "    }\n",
       "</style>\n",
       "<table border=\"1\" class=\"dataframe\">\n",
       "  <thead>\n",
       "    <tr style=\"text-align: right;\">\n",
       "      <th></th>\n",
       "      <th>age</th>\n",
       "      <th>hypertension</th>\n",
       "      <th>heart_disease</th>\n",
       "      <th>stroke</th>\n",
       "      <th>is_paralyzed</th>\n",
       "      <th>avg_glucose_level</th>\n",
       "      <th>bmi</th>\n",
       "    </tr>\n",
       "  </thead>\n",
       "  <tbody>\n",
       "    <tr>\n",
       "      <th>count</th>\n",
       "      <td>3489.000000</td>\n",
       "      <td>3489.000000</td>\n",
       "      <td>3489.000000</td>\n",
       "      <td>3489.000000</td>\n",
       "      <td>3489.000000</td>\n",
       "      <td>3489.000000</td>\n",
       "      <td>3489.000000</td>\n",
       "    </tr>\n",
       "    <tr>\n",
       "      <th>mean</th>\n",
       "      <td>49.068805</td>\n",
       "      <td>0.123818</td>\n",
       "      <td>0.065921</td>\n",
       "      <td>0.059903</td>\n",
       "      <td>0.059616</td>\n",
       "      <td>108.860547</td>\n",
       "      <td>29.812611</td>\n",
       "    </tr>\n",
       "    <tr>\n",
       "      <th>std</th>\n",
       "      <td>18.877757</td>\n",
       "      <td>0.329421</td>\n",
       "      <td>0.248180</td>\n",
       "      <td>0.237340</td>\n",
       "      <td>0.236808</td>\n",
       "      <td>48.183574</td>\n",
       "      <td>6.225724</td>\n",
       "    </tr>\n",
       "    <tr>\n",
       "      <th>min</th>\n",
       "      <td>10.000000</td>\n",
       "      <td>0.000000</td>\n",
       "      <td>0.000000</td>\n",
       "      <td>0.000000</td>\n",
       "      <td>0.000000</td>\n",
       "      <td>55.120000</td>\n",
       "      <td>14.100000</td>\n",
       "    </tr>\n",
       "    <tr>\n",
       "      <th>25%</th>\n",
       "      <td>34.000000</td>\n",
       "      <td>0.000000</td>\n",
       "      <td>0.000000</td>\n",
       "      <td>0.000000</td>\n",
       "      <td>0.000000</td>\n",
       "      <td>77.460000</td>\n",
       "      <td>25.300000</td>\n",
       "    </tr>\n",
       "    <tr>\n",
       "      <th>50%</th>\n",
       "      <td>50.000000</td>\n",
       "      <td>0.000000</td>\n",
       "      <td>0.000000</td>\n",
       "      <td>0.000000</td>\n",
       "      <td>0.000000</td>\n",
       "      <td>92.590000</td>\n",
       "      <td>29.100000</td>\n",
       "    </tr>\n",
       "    <tr>\n",
       "      <th>75%</th>\n",
       "      <td>64.000000</td>\n",
       "      <td>0.000000</td>\n",
       "      <td>0.000000</td>\n",
       "      <td>0.000000</td>\n",
       "      <td>0.000000</td>\n",
       "      <td>116.440000</td>\n",
       "      <td>33.500000</td>\n",
       "    </tr>\n",
       "    <tr>\n",
       "      <th>max</th>\n",
       "      <td>82.000000</td>\n",
       "      <td>1.000000</td>\n",
       "      <td>1.000000</td>\n",
       "      <td>1.000000</td>\n",
       "      <td>1.000000</td>\n",
       "      <td>271.740000</td>\n",
       "      <td>48.900000</td>\n",
       "    </tr>\n",
       "  </tbody>\n",
       "</table>\n",
       "</div>"
      ],
      "text/plain": [
       "               age  hypertension  heart_disease       stroke  is_paralyzed  \\\n",
       "count  3489.000000   3489.000000    3489.000000  3489.000000   3489.000000   \n",
       "mean     49.068805      0.123818       0.065921     0.059903      0.059616   \n",
       "std      18.877757      0.329421       0.248180     0.237340      0.236808   \n",
       "min      10.000000      0.000000       0.000000     0.000000      0.000000   \n",
       "25%      34.000000      0.000000       0.000000     0.000000      0.000000   \n",
       "50%      50.000000      0.000000       0.000000     0.000000      0.000000   \n",
       "75%      64.000000      0.000000       0.000000     0.000000      0.000000   \n",
       "max      82.000000      1.000000       1.000000     1.000000      1.000000   \n",
       "\n",
       "       avg_glucose_level          bmi  \n",
       "count        3489.000000  3489.000000  \n",
       "mean          108.860547    29.812611  \n",
       "std            48.183574     6.225724  \n",
       "min            55.120000    14.100000  \n",
       "25%            77.460000    25.300000  \n",
       "50%            92.590000    29.100000  \n",
       "75%           116.440000    33.500000  \n",
       "max           271.740000    48.900000  "
      ]
     },
     "execution_count": 35,
     "metadata": {},
     "output_type": "execute_result"
    }
   ],
   "source": [
    "df.describe()"
   ]
  },
  {
   "cell_type": "markdown",
   "id": "0c45dd00-dfa5-46dc-90a4-da55583f349a",
   "metadata": {},
   "source": [
    "##### How is age distributed?"
   ]
  },
  {
   "cell_type": "code",
   "execution_count": 38,
   "id": "0cf78824-5c42-4403-a7f5-0a6eb86d9e43",
   "metadata": {},
   "outputs": [
    {
     "data": {
      "image/png": "[encoded data removed]",
      "text/plain": [
       "<Figure size 640x480 with 1 Axes>"
      ]
     },
     "metadata": {},
     "output_type": "display_data"
    }
   ],
   "source": [
    "plt.hist(x=df['age'],color='#44ccff')\n",
    "plt.show()"
   ]
  },
  {
   "cell_type": "markdown",
   "id": "2f5177a1-30e4-44e7-85f0-39716f943678",
   "metadata": {},
   "source": [
    "##### What's the relationship between age and average glucose level in a person?"
   ]
  },
  {
   "cell_type": "code",
   "execution_count": 41,
   "id": "ebc405b8-2936-4056-b4bb-87a763266d93",
   "metadata": {},
   "outputs": [
    {
     "data": {
      "image/png": "[encoded data removed]",
      "text/plain": [
       "<Figure size 640x480 with 1 Axes>"
      ]
     },
     "metadata": {},
     "output_type": "display_data"
    }
   ],
   "source": [
    "plt.scatter(df['age'],df['avg_glucose_level'],color='#44CCFF')\n",
    "plt.show()"
   ]
  },
  {
   "cell_type": "markdown",
   "id": "3bf4c7c9-38bb-4206-be12-64e39d3608f3",
   "metadata": {},
   "source": [
    "##### Feature Correlation"
   ]
  },
  {
   "cell_type": "code",
   "execution_count": 44,
   "id": "30e43736-e387-4dda-a557-6a4a002519fb",
   "metadata": {},
   "outputs": [
    {
     "data": {
      "text/html": [
       "<div>\n",
       "<style scoped>\n",
       "    .dataframe tbody tr th:only-of-type {\n",
       "        vertical-align: middle;\n",
       "    }\n",
       "\n",
       "    .dataframe tbody tr th {\n",
       "        vertical-align: top;\n",
       "    }\n",
       "\n",
       "    .dataframe thead th {\n",
       "        text-align: right;\n",
       "    }\n",
       "</style>\n",
       "<table border=\"1\" class=\"dataframe\">\n",
       "  <thead>\n",
       "    <tr style=\"text-align: right;\">\n",
       "      <th></th>\n",
       "      <th>age</th>\n",
       "      <th>hypertension</th>\n",
       "      <th>heart_disease</th>\n",
       "      <th>stroke</th>\n",
       "      <th>is_paralyzed</th>\n",
       "      <th>avg_glucose_level</th>\n",
       "      <th>bmi</th>\n",
       "    </tr>\n",
       "  </thead>\n",
       "  <tbody>\n",
       "    <tr>\n",
       "      <th>age</th>\n",
       "      <td>1.000000</td>\n",
       "      <td>0.272800</td>\n",
       "      <td>0.265126</td>\n",
       "      <td>0.247423</td>\n",
       "      <td>0.232950</td>\n",
       "      <td>0.228800</td>\n",
       "      <td>0.108834</td>\n",
       "    </tr>\n",
       "    <tr>\n",
       "      <th>hypertension</th>\n",
       "      <td>0.272800</td>\n",
       "      <td>1.000000</td>\n",
       "      <td>0.107033</td>\n",
       "      <td>0.143458</td>\n",
       "      <td>0.133210</td>\n",
       "      <td>0.160540</td>\n",
       "      <td>0.117433</td>\n",
       "    </tr>\n",
       "    <tr>\n",
       "      <th>heart_disease</th>\n",
       "      <td>0.265126</td>\n",
       "      <td>0.107033</td>\n",
       "      <td>1.000000</td>\n",
       "      <td>0.137366</td>\n",
       "      <td>0.108727</td>\n",
       "      <td>0.156005</td>\n",
       "      <td>0.018592</td>\n",
       "    </tr>\n",
       "    <tr>\n",
       "      <th>stroke</th>\n",
       "      <td>0.247423</td>\n",
       "      <td>0.143458</td>\n",
       "      <td>0.137366</td>\n",
       "      <td>1.000000</td>\n",
       "      <td>0.920938</td>\n",
       "      <td>0.134141</td>\n",
       "      <td>0.025837</td>\n",
       "    </tr>\n",
       "    <tr>\n",
       "      <th>is_paralyzed</th>\n",
       "      <td>0.232950</td>\n",
       "      <td>0.133210</td>\n",
       "      <td>0.108727</td>\n",
       "      <td>0.920938</td>\n",
       "      <td>1.000000</td>\n",
       "      <td>0.130063</td>\n",
       "      <td>0.018664</td>\n",
       "    </tr>\n",
       "    <tr>\n",
       "      <th>avg_glucose_level</th>\n",
       "      <td>0.228800</td>\n",
       "      <td>0.160540</td>\n",
       "      <td>0.156005</td>\n",
       "      <td>0.134141</td>\n",
       "      <td>0.130063</td>\n",
       "      <td>1.000000</td>\n",
       "      <td>0.165405</td>\n",
       "    </tr>\n",
       "    <tr>\n",
       "      <th>bmi</th>\n",
       "      <td>0.108834</td>\n",
       "      <td>0.117433</td>\n",
       "      <td>0.018592</td>\n",
       "      <td>0.025837</td>\n",
       "      <td>0.018664</td>\n",
       "      <td>0.165405</td>\n",
       "      <td>1.000000</td>\n",
       "    </tr>\n",
       "  </tbody>\n",
       "</table>\n",
       "</div>"
      ],
      "text/plain": [
       "                        age  hypertension  heart_disease    stroke  \\\n",
       "age                1.000000      0.272800       0.265126  0.247423   \n",
       "hypertension       0.272800      1.000000       0.107033  0.143458   \n",
       "heart_disease      0.265126      0.107033       1.000000  0.137366   \n",
       "stroke             0.247423      0.143458       0.137366  1.000000   \n",
       "is_paralyzed       0.232950      0.133210       0.108727  0.920938   \n",
       "avg_glucose_level  0.228800      0.160540       0.156005  0.134141   \n",
       "bmi                0.108834      0.117433       0.018592  0.025837   \n",
       "\n",
       "                   is_paralyzed  avg_glucose_level       bmi  \n",
       "age                    0.232950           0.228800  0.108834  \n",
       "hypertension           0.133210           0.160540  0.117433  \n",
       "heart_disease          0.108727           0.156005  0.018592  \n",
       "stroke                 0.920938           0.134141  0.025837  \n",
       "is_paralyzed           1.000000           0.130063  0.018664  \n",
       "avg_glucose_level      0.130063           1.000000  0.165405  \n",
       "bmi                    0.018664           0.165405  1.000000  "
      ]
     },
     "execution_count": 44,
     "metadata": {},
     "output_type": "execute_result"
    }
   ],
   "source": [
    "df.corr()"
   ]
  },
  {
   "cell_type": "markdown",
   "id": "595a7007-1e7c-441d-b446-2be66e862eba",
   "metadata": {},
   "source": [
    "##### Multicollinearity Check"
   ]
  },
  {
   "cell_type": "code",
   "execution_count": 47,
   "id": "4948d82b-c8d3-44f6-9068-942294b08ea0",
   "metadata": {},
   "outputs": [
    {
     "data": {
      "text/html": [
       "<div>\n",
       "<style scoped>\n",
       "    .dataframe tbody tr th:only-of-type {\n",
       "        vertical-align: middle;\n",
       "    }\n",
       "\n",
       "    .dataframe tbody tr th {\n",
       "        vertical-align: top;\n",
       "    }\n",
       "\n",
       "    .dataframe thead th {\n",
       "        text-align: right;\n",
       "    }\n",
       "</style>\n",
       "<table border=\"1\" class=\"dataframe\">\n",
       "  <thead>\n",
       "    <tr style=\"text-align: right;\">\n",
       "      <th></th>\n",
       "      <th>variables</th>\n",
       "      <th>VIF2</th>\n",
       "    </tr>\n",
       "  </thead>\n",
       "  <tbody>\n",
       "    <tr>\n",
       "      <th>0</th>\n",
       "      <td>age</td>\n",
       "      <td>7.967873</td>\n",
       "    </tr>\n",
       "    <tr>\n",
       "      <th>1</th>\n",
       "      <td>hypertension</td>\n",
       "      <td>1.225353</td>\n",
       "    </tr>\n",
       "    <tr>\n",
       "      <th>2</th>\n",
       "      <td>heart_disease</td>\n",
       "      <td>1.156494</td>\n",
       "    </tr>\n",
       "    <tr>\n",
       "      <th>3</th>\n",
       "      <td>avg_glucose_level</td>\n",
       "      <td>6.399790</td>\n",
       "    </tr>\n",
       "    <tr>\n",
       "      <th>4</th>\n",
       "      <td>bmi</td>\n",
       "      <td>9.275085</td>\n",
       "    </tr>\n",
       "  </tbody>\n",
       "</table>\n",
       "</div>"
      ],
      "text/plain": [
       "           variables      VIF2\n",
       "0                age  7.967873\n",
       "1       hypertension  1.225353\n",
       "2      heart_disease  1.156494\n",
       "3  avg_glucose_level  6.399790\n",
       "4                bmi  9.275085"
      ]
     },
     "execution_count": 47,
     "metadata": {},
     "output_type": "execute_result"
    }
   ],
   "source": [
    "x=df.loc[:,['age','hypertension','heart_disease','avg_glucose_level','bmi']]\n",
    "vif=pd.DataFrame()\n",
    "vif[\"variables\"]=x.columns\n",
    "vif[\"VIF2\"]=[variance_inflation_factor(x.values,i) for i in range(x.shape[1])]\n",
    "vif"
   ]
  },
  {
   "cell_type": "markdown",
   "id": "fafe8f3c-5c65-4ae2-b2c3-fbe3188e2a60",
   "metadata": {},
   "source": [
    "#### Data Preparation"
   ]
  },
  {
   "cell_type": "markdown",
   "id": "eca1487d-9d31-4c31-9ffd-0c796425d3f5",
   "metadata": {},
   "source": [
    "##### Encode Categorical"
   ]
  },
  {
   "cell_type": "code",
   "execution_count": 53,
   "id": "1c66e91a-8785-4b54-8a9d-c76046f3540c",
   "metadata": {},
   "outputs": [],
   "source": [
    "encd_df=df.apply(LabelEncoder().fit_transform)"
   ]
  },
  {
   "cell_type": "code",
   "execution_count": 54,
   "id": "d8ef8b63-5f1c-49ed-a134-d229c78a927d",
   "metadata": {},
   "outputs": [
    {
     "data": {
      "text/html": [
       "<div>\n",
       "<style scoped>\n",
       "    .dataframe tbody tr th:only-of-type {\n",
       "        vertical-align: middle;\n",
       "    }\n",
       "\n",
       "    .dataframe tbody tr th {\n",
       "        vertical-align: top;\n",
       "    }\n",
       "\n",
       "    .dataframe thead th {\n",
       "        text-align: right;\n",
       "    }\n",
       "</style>\n",
       "<table border=\"1\" class=\"dataframe\">\n",
       "  <thead>\n",
       "    <tr style=\"text-align: right;\">\n",
       "      <th></th>\n",
       "      <th>gender</th>\n",
       "      <th>age</th>\n",
       "      <th>hypertension</th>\n",
       "      <th>heart_disease</th>\n",
       "      <th>ever_married</th>\n",
       "      <th>work_type</th>\n",
       "      <th>residence_type</th>\n",
       "      <th>smoking_status</th>\n",
       "      <th>stroke</th>\n",
       "      <th>is_paralyzed</th>\n",
       "      <th>avg_glucose_level</th>\n",
       "      <th>bmi</th>\n",
       "    </tr>\n",
       "  </thead>\n",
       "  <tbody>\n",
       "    <tr>\n",
       "      <th>0</th>\n",
       "      <td>1</td>\n",
       "      <td>34</td>\n",
       "      <td>0</td>\n",
       "      <td>1</td>\n",
       "      <td>1</td>\n",
       "      <td>2</td>\n",
       "      <td>1</td>\n",
       "      <td>0</td>\n",
       "      <td>1</td>\n",
       "      <td>1</td>\n",
       "      <td>2821</td>\n",
       "      <td>204</td>\n",
       "    </tr>\n",
       "    <tr>\n",
       "      <th>1</th>\n",
       "      <td>1</td>\n",
       "      <td>71</td>\n",
       "      <td>0</td>\n",
       "      <td>1</td>\n",
       "      <td>1</td>\n",
       "      <td>2</td>\n",
       "      <td>0</td>\n",
       "      <td>1</td>\n",
       "      <td>1</td>\n",
       "      <td>1</td>\n",
       "      <td>1853</td>\n",
       "      <td>163</td>\n",
       "    </tr>\n",
       "    <tr>\n",
       "      <th>2</th>\n",
       "      <td>0</td>\n",
       "      <td>34</td>\n",
       "      <td>0</td>\n",
       "      <td>0</td>\n",
       "      <td>1</td>\n",
       "      <td>2</td>\n",
       "      <td>1</td>\n",
       "      <td>2</td>\n",
       "      <td>1</td>\n",
       "      <td>1</td>\n",
       "      <td>2454</td>\n",
       "      <td>182</td>\n",
       "    </tr>\n",
       "    <tr>\n",
       "      <th>3</th>\n",
       "      <td>0</td>\n",
       "      <td>70</td>\n",
       "      <td>1</td>\n",
       "      <td>0</td>\n",
       "      <td>1</td>\n",
       "      <td>3</td>\n",
       "      <td>0</td>\n",
       "      <td>1</td>\n",
       "      <td>1</td>\n",
       "      <td>1</td>\n",
       "      <td>2462</td>\n",
       "      <td>78</td>\n",
       "    </tr>\n",
       "    <tr>\n",
       "      <th>4</th>\n",
       "      <td>1</td>\n",
       "      <td>34</td>\n",
       "      <td>0</td>\n",
       "      <td>0</td>\n",
       "      <td>1</td>\n",
       "      <td>2</td>\n",
       "      <td>1</td>\n",
       "      <td>0</td>\n",
       "      <td>1</td>\n",
       "      <td>1</td>\n",
       "      <td>2502</td>\n",
       "      <td>128</td>\n",
       "    </tr>\n",
       "  </tbody>\n",
       "</table>\n",
       "</div>"
      ],
      "text/plain": [
       "   gender  age  hypertension  heart_disease  ever_married  work_type  \\\n",
       "0       1   34             0              1             1          2   \n",
       "1       1   71             0              1             1          2   \n",
       "2       0   34             0              0             1          2   \n",
       "3       0   70             1              0             1          3   \n",
       "4       1   34             0              0             1          2   \n",
       "\n",
       "   residence_type  smoking_status  stroke  is_paralyzed  avg_glucose_level  \\\n",
       "0               1               0       1             1               2821   \n",
       "1               0               1       1             1               1853   \n",
       "2               1               2       1             1               2454   \n",
       "3               0               1       1             1               2462   \n",
       "4               1               0       1             1               2502   \n",
       "\n",
       "   bmi  \n",
       "0  204  \n",
       "1  163  \n",
       "2  182  \n",
       "3   78  \n",
       "4  128  "
      ]
     },
     "execution_count": 54,
     "metadata": {},
     "output_type": "execute_result"
    }
   ],
   "source": [
    "encd_df.head()"
   ]
  },
  {
   "cell_type": "markdown",
   "id": "7058a574-4712-4dc1-b88a-3d6a53b6a956",
   "metadata": {},
   "source": [
    "##### Data Imbalance Check"
   ]
  },
  {
   "cell_type": "code",
   "execution_count": 56,
   "id": "4165c691-e2b8-44b1-aee3-a2fbd26311ac",
   "metadata": {},
   "outputs": [
    {
     "data": {
      "text/plain": [
       "0    3280\n",
       "1     209\n",
       "Name: stroke, dtype: int64"
      ]
     },
     "execution_count": 56,
     "metadata": {},
     "output_type": "execute_result"
    }
   ],
   "source": [
    "encd_df.stroke.value_counts()"
   ]
  },
  {
   "cell_type": "code",
   "execution_count": 57,
   "id": "a250fea2-8866-41d3-bff1-809c57751bb1",
   "metadata": {},
   "outputs": [],
   "source": [
    "#Data is imbalanced"
   ]
  },
  {
   "cell_type": "code",
   "execution_count": 60,
   "id": "cc0cfbc7-d4ab-41aa-a9a0-315db0c674e6",
   "metadata": {},
   "outputs": [],
   "source": [
    "##### Oversampling using SMOTE\n",
    "oversample=SMOTE(random_state=2,sampling_strategy='minority')\n",
    "X0=encd_df.loc[:,encd_df.columns!='stroke']\n",
    "y0=encd_df.loc[:,'stroke']\n",
    "X=X0.values\n",
    "y=y0.values\n",
    "x,y=oversample.fit_resample(x,y)\n",
    "X=pd.DataFrame(x,columns=X0.columns)\n",
    "y=pd.DataFrame(y,columns=['stroke'])\n",
    "sm_df=pd.concat([x,y],axis=1)"
   ]
  },
  {
   "cell_type": "code",
   "execution_count": 63,
   "id": "ce5d76c5-9ddf-43fc-af5b-9cab91a528eb",
   "metadata": {},
   "outputs": [
    {
     "data": {
      "text/plain": [
       "1    3280\n",
       "0    3280\n",
       "Name: stroke, dtype: int64"
      ]
     },
     "execution_count": 63,
     "metadata": {},
     "output_type": "execute_result"
    }
   ],
   "source": [
    "sm_df.stroke.value_counts()"
   ]
  },
  {
   "cell_type": "code",
   "execution_count": 64,
   "id": "044c8bf1-c932-46d3-b9bb-4dc73b1addf1",
   "metadata": {},
   "outputs": [
    {
     "data": {
      "text/plain": [
       "Index(['gender', 'age', 'hypertension', 'heart_disease', 'ever_married',\n",
       "       'work_type', 'residence_type', 'smoking_status', 'stroke',\n",
       "       'is_paralyzed', 'avg_glucose_level', 'bmi'],\n",
       "      dtype='object')"
      ]
     },
     "execution_count": 64,
     "metadata": {},
     "output_type": "execute_result"
    }
   ],
   "source": [
    "encd_df.columns"
   ]
  },
  {
   "cell_type": "code",
   "execution_count": 65,
   "id": "f477e76d-5101-40c6-854e-a2715510caad",
   "metadata": {},
   "outputs": [],
   "source": [
    "sm_df.to_csv('brain_stroke_processed_v2.csv',index=False)"
   ]
  },
  {
   "cell_type": "markdown",
   "id": "3a8bdb80-8e2a-4c7a-9ebe-134585d49233",
   "metadata": {},
   "source": [
    "#### Process Numeric"
   ]
  },
  {
   "cell_type": "code",
   "execution_count": 68,
   "id": "8c79edde-2407-4747-8c36-d1e39a513a92",
   "metadata": {},
   "outputs": [
    {
     "data": {
      "text/html": [
       "<div>\n",
       "<style scoped>\n",
       "    .dataframe tbody tr th:only-of-type {\n",
       "        vertical-align: middle;\n",
       "    }\n",
       "\n",
       "    .dataframe tbody tr th {\n",
       "        vertical-align: top;\n",
       "    }\n",
       "\n",
       "    .dataframe thead th {\n",
       "        text-align: right;\n",
       "    }\n",
       "</style>\n",
       "<table border=\"1\" class=\"dataframe\">\n",
       "  <thead>\n",
       "    <tr style=\"text-align: right;\">\n",
       "      <th></th>\n",
       "      <th>age</th>\n",
       "      <th>hypertension</th>\n",
       "      <th>heart_disease</th>\n",
       "      <th>avg_glucose_level</th>\n",
       "      <th>bmi</th>\n",
       "      <th>stroke</th>\n",
       "    </tr>\n",
       "  </thead>\n",
       "  <tbody>\n",
       "    <tr>\n",
       "      <th>0</th>\n",
       "      <td>-0.785056</td>\n",
       "      <td>0</td>\n",
       "      <td>1</td>\n",
       "      <td>1.884198</td>\n",
       "      <td>1.164081</td>\n",
       "      <td>1</td>\n",
       "    </tr>\n",
       "    <tr>\n",
       "      <th>1</th>\n",
       "      <td>1.196021</td>\n",
       "      <td>0</td>\n",
       "      <td>1</td>\n",
       "      <td>-0.273476</td>\n",
       "      <td>0.435832</td>\n",
       "      <td>1</td>\n",
       "    </tr>\n",
       "    <tr>\n",
       "      <th>2</th>\n",
       "      <td>-0.785056</td>\n",
       "      <td>0</td>\n",
       "      <td>0</td>\n",
       "      <td>0.874343</td>\n",
       "      <td>0.773313</td>\n",
       "      <td>1</td>\n",
       "    </tr>\n",
       "    <tr>\n",
       "      <th>3</th>\n",
       "      <td>1.141875</td>\n",
       "      <td>1</td>\n",
       "      <td>0</td>\n",
       "      <td>0.925134</td>\n",
       "      <td>-1.073955</td>\n",
       "      <td>1</td>\n",
       "    </tr>\n",
       "    <tr>\n",
       "      <th>4</th>\n",
       "      <td>-0.785056</td>\n",
       "      <td>0</td>\n",
       "      <td>0</td>\n",
       "      <td>1.137615</td>\n",
       "      <td>-0.185845</td>\n",
       "      <td>1</td>\n",
       "    </tr>\n",
       "  </tbody>\n",
       "</table>\n",
       "</div>"
      ],
      "text/plain": [
       "        age  hypertension  heart_disease  avg_glucose_level       bmi  stroke\n",
       "0 -0.785056             0              1           1.884198  1.164081       1\n",
       "1  1.196021             0              1          -0.273476  0.435832       1\n",
       "2 -0.785056             0              0           0.874343  0.773313       1\n",
       "3  1.141875             1              0           0.925134 -1.073955       1\n",
       "4 -0.785056             0              0           1.137615 -0.185845       1"
      ]
     },
     "execution_count": 68,
     "metadata": {},
     "output_type": "execute_result"
    }
   ],
   "source": [
    "sc=StandardScaler()\n",
    "sm_df[['age','avg_glucose_level','bmi']]=sc.fit_transform(sm_df[['age','avg_glucose_level','bmi']])\n",
    "sm_df.head()"
   ]
  },
  {
   "cell_type": "markdown",
   "id": "9328c0bd-b684-46ea-a13d-dd7f9d2fa5be",
   "metadata": {},
   "source": [
    "#### Handle Outliers"
   ]
  },
  {
   "cell_type": "code",
   "execution_count": 69,
   "id": "f2441e47-59b5-4f65-8e96-0c35dca4acd6",
   "metadata": {},
   "outputs": [
    {
     "data": {
      "image/png": "[encoded data removed]",
      "text/plain": [
       "<Figure size 640x480 with 1 Axes>"
      ]
     },
     "metadata": {},
     "output_type": "display_data"
    }
   ],
   "source": [
    "sns.boxplot(x=sm_df['bmi'])\n",
    "plt.show()"
   ]
  },
  {
   "cell_type": "code",
   "execution_count": 70,
   "id": "4b46e330-a309-4237-a05f-615001eb5d31",
   "metadata": {},
   "outputs": [],
   "source": [
    "upper_limit=sm_df['bmi'].mean()+(2*sm_df['bmi'].std())\n",
    "lower_limit=sm_df['bmi'].mean()-(2*sm_df['bmi'].std())"
   ]
  },
  {
   "cell_type": "code",
   "execution_count": 71,
   "id": "169a3b53-f0f5-4c31-971f-e5e0033c87d5",
   "metadata": {},
   "outputs": [],
   "source": [
    "sm_df=sm_df[(sm_df['bmi']<=upper_limit)&(sm_df['bmi']>=lower_limit)]"
   ]
  },
  {
   "cell_type": "markdown",
   "id": "26b118c5-a156-4af5-b749-5922ae15b2a1",
   "metadata": {},
   "source": [
    "##### Split data"
   ]
  },
  {
   "cell_type": "code",
   "execution_count": 79,
   "id": "091fd533-2bc6-477e-969a-23b3898eeabe",
   "metadata": {},
   "outputs": [],
   "source": [
    "x=sm_df.loc[:,sm_df.columns!='stroke']\n",
    "y=sm_df.loc[:,'stroke']\n",
    "x_train,x_test,y_train,y_test=train_test_split(x,y,test_size=0.3,random_state=123)"
   ]
  },
  {
   "cell_type": "markdown",
   "id": "6fe969d4-759a-454b-b29e-8c0d33ec9f66",
   "metadata": {},
   "source": [
    "#### Exporting the data"
   ]
  },
  {
   "cell_type": "code",
   "execution_count": null,
   "id": "dea065ec-2691-4f5b-a55f-fb95c265faa5",
   "metadata": {},
   "outputs": [],
   "source": [
    "x_train.to_csv('x_train.csv',index=False)\n",
    "boto3.Session().resource('s3').Bucket(bucket_name).Object(os.path.join(prefix,'output/split_data/x_train.csv')).upload_file('x_train.csv')\n",
    "\n",
    "x_test.to_csv('x_test.csv',index=False)\n",
    "boto3.Session().resource('s3').Bucket(bucket_name).Object(os.path.join(prefix,'output/split_data/x_test.csv')).upload_file('x_test.csv')\n",
    "\n",
    "y_train.to_csv('y_train.csv',index=False)\n",
    "boto3.Session().resource('s3').Bucket(bucket_name).Object(os.path.join(prefix,'output/split_data/y_train.csv')).upload_file('y_train.csv')\n",
    "\n",
    "y_test.to_csv('y_test',index=False)\n",
    "boto3.Session().resource('s3').Bucket(bucket_name).Object(os.path.join(prefix,'output/split_data/y_test.csv')).upload_file('y_test.csv')"
   ]
  },
  {
   "cell_type": "code",
   "execution_count": null,
   "id": "e5c993fe-148e-47ae-9c12-6de0d02e8b86",
   "metadata": {},
   "outputs": [],
   "source": []
  }
 ],
 "metadata": {
  "instance_type": "ml.t3.medium",
  "kernelspec": {
   "display_name": "Python 3 (Data Science)",
   "language": "python",
   "name": "python3__SAGEMAKER_INTERNAL__arn:aws:sagemaker:us-east-1:081325390199:image/datascience-1.0"
  },
  "language_info": {
   "codemirror_mode": {
    "name": "ipython",
    "version": 3
   },
   "file_extension": ".py",
   "mimetype": "text/x-python",
   "name": "python",
   "nbconvert_exporter": "python",
   "pygments_lexer": "ipython3",
   "version": "3.7.10"
  }
 },
 "nbformat": 4,
 "nbformat_minor": 5
}
